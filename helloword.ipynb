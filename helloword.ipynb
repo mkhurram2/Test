{
  "nbformat": 4,
  "nbformat_minor": 0,
  "metadata": {
    "colab": {
      "provenance": [],
      "authorship_tag": "ABX9TyPpSZbpOncQlA03y2cFr+6s",
      "include_colab_link": true
    },
    "kernelspec": {
      "name": "python3",
      "display_name": "Python 3"
    },
    "language_info": {
      "name": "python"
    }
  },
  "cells": [
    {
      "cell_type": "markdown",
      "metadata": {
        "id": "view-in-github",
        "colab_type": "text"
      },
      "source": [
        "<a href=\"https://colab.research.google.com/github/mkhurram2/Test/blob/main/helloword.ipynb\" target=\"_parent\"><img src=\"https://colab.research.google.com/assets/colab-badge.svg\" alt=\"Open In Colab\"/></a>"
      ]
    },
    {
      "cell_type": "code",
      "execution_count": null,
      "metadata": {
        "colab": {
          "base_uri": "https://localhost:8080/"
        },
        "id": "YGJvY8nfi25W",
        "outputId": "bdb25ea4-3a9a-439e-d86a-36be30a393b9"
      },
      "outputs": [
        {
          "output_type": "stream",
          "name": "stdout",
          "text": [
            "Hello khurram\n"
          ]
        }
      ],
      "source": [
        "# prompt: write a hello word program with my name khurram\n",
        "\n",
        "name = 'khurram'\n",
        "print('Hello ' + name)\n"
      ]
    },
    {
      "cell_type": "code",
      "source": [
        "# prompt: Whether it is divisible by both 2 and 3 or anyone of them or not divisible by both check all the cases and print statement for each case\n",
        "\n",
        "num = int(input(\"Enter a number: \"))\n",
        "if num % 2 == 0 and num % 3 == 0:\n",
        "  print(num, \"is divisible by both 2 and 3\")\n",
        "elif num % 2 == 0:\n",
        "  print(num, \"is divisible by 2 but not by 3\")\n",
        "elif num % 3 == 0:\n",
        "  print(num, \"is divisible by 3 but not by 2\")\n",
        "else:\n",
        "  print(num, \"is not divisible by either 2 or 3\")\n"
      ],
      "metadata": {
        "colab": {
          "base_uri": "https://localhost:8080/"
        },
        "id": "2ob8OocQlG6l",
        "outputId": "18c6c17b-4620-4ce5-cda8-6a56650e2f36"
      },
      "execution_count": null,
      "outputs": [
        {
          "output_type": "stream",
          "name": "stdout",
          "text": [
            "Enter a number: 5\n",
            "5 is not divisible by either 2 or 3\n"
          ]
        }
      ]
    },
    {
      "cell_type": "code",
      "source": [
        "# prompt: pls calculate my age\n",
        "\n",
        "birth_year = int(input(\"Enter your birth year: \"))\n",
        "current_year = int(input(\"Enter the current year: \"))\n",
        "age = current_year - birth_year\n",
        "print(\"Your age is:\", age)\n"
      ],
      "metadata": {
        "id": "xTlzkieimSxh",
        "colab": {
          "base_uri": "https://localhost:8080/"
        },
        "outputId": "6eb015e8-9fa3-418e-9468-1fc955381716"
      },
      "execution_count": 1,
      "outputs": [
        {
          "output_type": "stream",
          "name": "stdout",
          "text": [
            "Enter your birth year: 1980\n",
            "Enter the current year: 2024\n",
            "Your age is: 44\n"
          ]
        }
      ]
    }
  ]
}